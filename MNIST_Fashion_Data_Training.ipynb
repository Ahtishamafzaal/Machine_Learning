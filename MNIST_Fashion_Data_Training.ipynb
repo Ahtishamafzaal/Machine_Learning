{
  "nbformat": 4,
  "nbformat_minor": 0,
  "metadata": {
    "colab": {
      "provenance": [],
      "authorship_tag": "ABX9TyOHn0iyULvvRY6znFv1TygT"
    },
    "kernelspec": {
      "name": "python3",
      "display_name": "Python 3"
    },
    "language_info": {
      "name": "python"
    }
  },
  "cells": [
    {
      "cell_type": "markdown",
      "source": [
        "## Train a Fully connected Neural Network on Fashion MNIST dataset"
      ],
      "metadata": {
        "id": "N0AiFVbuaBc-"
      }
    },
    {
      "cell_type": "code",
      "source": [
        "#importing the files\n",
        "from tensorflow.keras.datasets import fashion_mnist\n",
        "from tensorflow.keras.models import Sequential\n",
        "from tensorflow.keras.layers import Dense\n",
        "from tensorflow.keras.utils import to_categorical"
      ],
      "metadata": {
        "id": "o4DimONrZmce"
      },
      "execution_count": 1,
      "outputs": []
    },
    {
      "cell_type": "markdown",
      "source": [
        "### Dataset"
      ],
      "metadata": {
        "id": "XXTa243ochDr"
      }
    },
    {
      "cell_type": "code",
      "source": [
        "# Split the data into x_train, y_train, x_test and y_test.\n",
        "(X_train, Y_train), (X_test, Y_test) = fashion_mnist.load_data()"
      ],
      "metadata": {
        "id": "3pnE4RhZZ6uv"
      },
      "execution_count": 2,
      "outputs": []
    },
    {
      "cell_type": "markdown",
      "source": [
        "###Split the data into x_train, y_train, x_test and y_test."
      ],
      "metadata": {
        "id": "zvoYkraMcmpn"
      }
    },
    {
      "cell_type": "code",
      "source": [
        "#Display the sample images from x_train\n",
        "import matplotlib.pyplot as plt\n",
        "\n",
        "# Number of digits to display\n",
        "n=15\n",
        "plt.figure(figsize=(20,5))\n",
        "\n",
        "# Loop through the first 'n' images\n",
        "for i in range(n):\n",
        "  ax = plt.subplot(2, n, i+1)\n",
        "  plt.imshow(X_train[i].reshape(28,28))\n",
        "  plt.gray()\n",
        "  plt.axis('off')\n",
        "\n",
        "\n",
        "plt.show()\n",
        "plt.close()"
      ],
      "metadata": {
        "colab": {
          "base_uri": "https://localhost:8080/",
          "height": 102
        },
        "id": "xUDgk10caWE8",
        "outputId": "fd0d58e6-f68b-4056-d0fe-d9124a30959b"
      },
      "execution_count": 3,
      "outputs": [
        {
          "output_type": "display_data",
          "data": {
            "text/plain": [
              "<Figure size 2000x500 with 15 Axes>"
            ],
            "image/png": "[encoded data removed]"
          },
          "metadata": {}
        }
      ]
    },
    {
      "cell_type": "code",
      "source": [
        "#Display the shape of x_train and y_train\n",
        "print('X_train shape:{} \\nY_train shape:{}'.format(X_train.shape, Y_train.shape))"
      ],
      "metadata": {
        "colab": {
          "base_uri": "https://localhost:8080/"
        },
        "id": "P9Vfg9ZXb499",
        "outputId": "197b2474-bff7-4bee-9162-cf2f0250230a"
      },
      "execution_count": 4,
      "outputs": [
        {
          "output_type": "stream",
          "name": "stdout",
          "text": [
            "X_train shape:(60000, 28, 28) \n",
            "Y_train shape:(60000,)\n"
          ]
        }
      ]
    },
    {
      "cell_type": "markdown",
      "source": [
        "###Flatten the images"
      ],
      "metadata": {
        "id": "5v8S_yeUcr3U"
      }
    },
    {
      "cell_type": "code",
      "source": [
        "#Reshape the images from 28x28 to 784-dimension vector.\n",
        "X_train = X_train.reshape(60000,784)\n",
        "X_test = X_test.reshape(10000, 784)\n",
        "\n",
        "print('X_train shape:{} \\nX_test shape:{}'.format(X_train.shape, X_test.shape))"
      ],
      "metadata": {
        "colab": {
          "base_uri": "https://localhost:8080/"
        },
        "id": "lA_WZjt7cPg4",
        "outputId": "5479875a-c998-4eb6-99b3-bdd8ac28aaa5"
      },
      "execution_count": 5,
      "outputs": [
        {
          "output_type": "stream",
          "name": "stdout",
          "text": [
            "X_train shape:(60000, 784) \n",
            "X_test shape:(10000, 784)\n"
          ]
        }
      ]
    },
    {
      "cell_type": "markdown",
      "source": [
        "###Scale the data"
      ],
      "metadata": {
        "id": "IfjVdz1NdCAj"
      }
    },
    {
      "cell_type": "code",
      "source": [
        "#Convert the data into float 32 type\n",
        "X_train = X_train.astype('float32')\n",
        "X_test = X_test.astype('float32')\n",
        "\n",
        "#Scale the data by dividing x_train and x_test by 255\n",
        "X_train /= 255.0\n",
        "X_test /= 255.0"
      ],
      "metadata": {
        "id": "vGmUTptKc8ty"
      },
      "execution_count": 6,
      "outputs": []
    },
    {
      "cell_type": "code",
      "source": [
        "#Checking the unique classes from the dataset\n",
        "import numpy as np\n",
        "n_classes = len(np.unique(Y_train))\n",
        "print(n_classes)"
      ],
      "metadata": {
        "colab": {
          "base_uri": "https://localhost:8080/"
        },
        "id": "2tr1oLr3eL99",
        "outputId": "4d470de5-90dc-44c7-fd05-199410a88494"
      },
      "execution_count": 7,
      "outputs": [
        {
          "output_type": "stream",
          "name": "stdout",
          "text": [
            "10\n"
          ]
        }
      ]
    },
    {
      "cell_type": "code",
      "source": [
        "#Display the shape of x_train and y_train after scaling.\n",
        "classes =10\n",
        "Y_train = to_categorical(Y_train, classes)\n",
        "Y_test = to_categorical(Y_test, classes)\n",
        "\n",
        "print('X_train shape:{} \\nY_train shape:{}'.format(X_train.shape, Y_train.shape))"
      ],
      "metadata": {
        "colab": {
          "base_uri": "https://localhost:8080/"
        },
        "id": "T8o92TELdwHg",
        "outputId": "9b0b3d1f-df20-4f6c-c479-62a42fb95e99"
      },
      "execution_count": 8,
      "outputs": [
        {
          "output_type": "stream",
          "name": "stdout",
          "text": [
            "X_train shape:(60000, 784) \n",
            "Y_train shape:(60000, 10)\n"
          ]
        }
      ]
    },
    {
      "cell_type": "markdown",
      "source": [
        "###Define the hyper parameters for the neural networks"
      ],
      "metadata": {
        "id": "L2OYn0TvessT"
      }
    },
    {
      "cell_type": "code",
      "source": [
        "# Define the input size for each data sample (e.g., image pixels)\n",
        "input_size = 784\n",
        "# Specify the number of data samples to process in each batch\n",
        "batch_size = 200\n",
        "# Define the number of neurons in the first hidden layer\n",
        "hidden1 = 400\n",
        "# Define the number of neurons in the second hidden layer\n",
        "hidden2 = 30\n",
        "# Define the total number of classes/categories in the dataset\n",
        "classes = 10\n",
        "# Set the number of complete passes through the dataset during training\n",
        "epochs = 15"
      ],
      "metadata": {
        "id": "EXoXMG7gepDG"
      },
      "execution_count": 9,
      "outputs": []
    },
    {
      "cell_type": "markdown",
      "source": [
        "###Define the structure of your neural network"
      ],
      "metadata": {
        "id": "5UB6mPmnfWRa"
      }
    },
    {
      "cell_type": "code",
      "source": [
        "model = Sequential()\n",
        "# No of hidden layers and activation function for each layer neurons\n",
        "model.add(Dense(hidden1, input_dim=input_size, activation='relu'))\n",
        "model.add(Dense(hidden2, activation='relu'))\n",
        "\n",
        "# Number of output layer neurons and activation function\n",
        "model.add(Dense(classes, activation='softmax'))\n",
        "\n",
        "#Compile the model and provide following arguments 1. Loss function 2. Optimizer 3. Metric\n",
        "model.compile(loss='categorical_crossentropy', metrics='accuracy', optimizer='sgd')\n",
        "\n",
        "#Display the summary of the model\n",
        "model.summary()"
      ],
      "metadata": {
        "colab": {
          "base_uri": "https://localhost:8080/"
        },
        "id": "GV9i-fV8e8sl",
        "outputId": "1c5e465e-c71c-4085-b1f2-c86abf25610e"
      },
      "execution_count": 10,
      "outputs": [
        {
          "output_type": "stream",
          "name": "stdout",
          "text": [
            "Model: \"sequential\"\n",
            "_________________________________________________________________\n",
            " Layer (type)                Output Shape              Param #   \n",
            "=================================================================\n",
            " dense (Dense)               (None, 400)               314000    \n",
            "                                                                 \n",
            " dense_1 (Dense)             (None, 30)                12030     \n",
            "                                                                 \n",
            " dense_2 (Dense)             (None, 10)                310       \n",
            "                                                                 \n",
            "=================================================================\n",
            "Total params: 326,340\n",
            "Trainable params: 326,340\n",
            "Non-trainable params: 0\n",
            "_________________________________________________________________\n"
          ]
        }
      ]
    },
    {
      "cell_type": "markdown",
      "source": [
        "###Train the Neural Network"
      ],
      "metadata": {
        "id": "zc8A_PxYgsuz"
      }
    },
    {
      "cell_type": "code",
      "source": [
        "from time import time\n",
        "before = time()\n",
        "\n",
        "#Fit the Model\n",
        "model.fit(X_train, Y_train, batch_size=batch_size, epochs=epochs, verbose=1)\n",
        "\n",
        "after = time()\n",
        "print('Model training time is {} secs'.format(after - before))"
      ],
      "metadata": {
        "colab": {
          "base_uri": "https://localhost:8080/"
        },
        "id": "kaS-SM_1glJh",
        "outputId": "db6b795d-5417-4ddf-c114-e6f1851852ea"
      },
      "execution_count": 11,
      "outputs": [
        {
          "output_type": "stream",
          "name": "stdout",
          "text": [
            "Epoch 1/15\n",
            "300/300 [==============================] - 3s 7ms/step - loss: 1.2096 - accuracy: 0.6337\n",
            "Epoch 2/15\n",
            "300/300 [==============================] - 3s 8ms/step - loss: 0.7017 - accuracy: 0.7708\n",
            "Epoch 3/15\n",
            "300/300 [==============================] - 2s 7ms/step - loss: 0.6067 - accuracy: 0.7997\n",
            "Epoch 4/15\n",
            "300/300 [==============================] - 2s 7ms/step - loss: 0.5570 - accuracy: 0.8150\n",
            "Epoch 5/15\n",
            "300/300 [==============================] - 2s 8ms/step - loss: 0.5257 - accuracy: 0.8235\n",
            "Epoch 6/15\n",
            "300/300 [==============================] - 3s 10ms/step - loss: 0.5039 - accuracy: 0.8297\n",
            "Epoch 7/15\n",
            "300/300 [==============================] - 4s 13ms/step - loss: 0.4866 - accuracy: 0.8346\n",
            "Epoch 8/15\n",
            "300/300 [==============================] - 3s 9ms/step - loss: 0.4727 - accuracy: 0.8388\n",
            "Epoch 9/15\n",
            "300/300 [==============================] - 3s 9ms/step - loss: 0.4615 - accuracy: 0.8418\n",
            "Epoch 10/15\n",
            "300/300 [==============================] - 2s 8ms/step - loss: 0.4521 - accuracy: 0.8450\n",
            "Epoch 11/15\n",
            "300/300 [==============================] - 3s 10ms/step - loss: 0.4437 - accuracy: 0.8473\n",
            "Epoch 12/15\n",
            "300/300 [==============================] - 2s 8ms/step - loss: 0.4370 - accuracy: 0.8497\n",
            "Epoch 13/15\n",
            "300/300 [==============================] - 3s 10ms/step - loss: 0.4299 - accuracy: 0.8513\n",
            "Epoch 14/15\n",
            "300/300 [==============================] - 3s 8ms/step - loss: 0.4240 - accuracy: 0.8519\n",
            "Epoch 15/15\n",
            "300/300 [==============================] - 3s 9ms/step - loss: 0.4180 - accuracy: 0.8557\n",
            "Model training time is 39.71807622909546 secs\n"
          ]
        }
      ]
    },
    {
      "cell_type": "markdown",
      "source": [
        "### Test the model"
      ],
      "metadata": {
        "id": "LcZCcAHPivJl"
      }
    },
    {
      "cell_type": "code",
      "source": [
        "#Find the testing accuracy of the model\n",
        "from sklearn.metrics import accuracy_score\n",
        "\n",
        "y_pred_prob = model.predict(X_test, verbose = 'auto')\n",
        "y_pred = np.where(y_pred_prob > 0.5, 1, 0)\n",
        "\n",
        "accuracy = accuracy_score(y_pred, Y_test)\n",
        "print('The accuracy of model is {}'.format(accuracy))"
      ],
      "metadata": {
        "colab": {
          "base_uri": "https://localhost:8080/"
        },
        "id": "lz7i_mBAhUV2",
        "outputId": "b0da0700-4e4c-4cb2-d44b-34f1fd6220c7"
      },
      "execution_count": 12,
      "outputs": [
        {
          "output_type": "stream",
          "name": "stdout",
          "text": [
            "313/313 [==============================] - 1s 3ms/step\n",
            "The accuracy of model is 0.8046\n"
          ]
        }
      ]
    },
    {
      "cell_type": "code",
      "source": [
        "# Compare the training and testing accuracy and write you observation in the comments\n",
        "\n",
        "train_accuracy = model.evaluate(X_train, Y_train, verbose=0)[1]\n",
        "\n",
        "# Evaluate the model on the testing data\n",
        "test_accuracy = model.evaluate(X_test, Y_test, verbose=0)[1]\n",
        "\n",
        "# Print the training and testing accuracies\n",
        "print('Training accuracy:', train_accuracy)\n",
        "print('Testing accuracy:', test_accuracy)"
      ],
      "metadata": {
        "colab": {
          "base_uri": "https://localhost:8080/"
        },
        "id": "XWnXu63gimIA",
        "outputId": "80e95c0f-38c9-4efd-de29-cd936852276c"
      },
      "execution_count": 13,
      "outputs": [
        {
          "output_type": "stream",
          "name": "stdout",
          "text": [
            "Training accuracy: 0.8585500121116638\n",
            "Testing accuracy: 0.843500018119812\n"
          ]
        }
      ]
    },
    {
      "cell_type": "markdown",
      "source": [
        "The testing accuracy is less than training accuracy because the model haven't seen the test data before and is now predicting based on his training knowledge.\n"
      ],
      "metadata": {
        "id": "GgcrszJQkMsi"
      }
    },
    {
      "cell_type": "code",
      "source": [
        "#Testing only first 20 from the dataset\n",
        "X_few = X_test[0:15]\n",
        "Y_few = Y_test[0:15]\n",
        "\n",
        "y_few_pred_prob = model.predict(X_few)\n",
        "y_few_pred = np.where(y_few_pred_prob > 0.5, 1, 0)"
      ],
      "metadata": {
        "colab": {
          "base_uri": "https://localhost:8080/"
        },
        "id": "jU0CeF4BlFma",
        "outputId": "ed6965f9-d50b-4448-d5ec-aeab26e1a847"
      },
      "execution_count": 14,
      "outputs": [
        {
          "output_type": "stream",
          "name": "stdout",
          "text": [
            "1/1 [==============================] - 0s 35ms/step\n"
          ]
        }
      ]
    },
    {
      "cell_type": "code",
      "source": [
        "n = len(X_few)\n",
        "plt.figure(figsize=(20,5))\n",
        "\n",
        "for i in range(n):\n",
        "  #Display the orignal image\n",
        "  ax = plt.subplot(2, n, i+1)\n",
        "  plt.imshow(X_few[i].reshape(28,28))\n",
        "  plt.gray()\n",
        "  plt.axis('off')\n",
        "\n",
        "  #Display the predicted label\n",
        "  pred_label = np.argmax(y_few_pred_prob[i])\n",
        "\n",
        "  # Get the mapping from integer labels to string labels\n",
        "  label_map = {0: 'T-shirt/top', 1: 'Trouser', 2: 'Pullover', 3: 'Dress', 4: 'Coat', 5: 'Sandal', 6: 'Shirt', 7: 'Sneaker', 8: 'Bag', 9: 'Ankle boot'}\n",
        "\n",
        "  # Convert the predicted label to a string\n",
        "  pred_label_str = label_map[pred_label]\n",
        "\n",
        "  ax = plt.subplot(2, n, i+1+n)\n",
        "  plt.text(0.5, 0.5, str(pred_label_str), fontsize=15, ha='center', va='center')\n",
        "  plt.axis('off')\n",
        "\n",
        "plt.show()\n",
        "plt.close()"
      ],
      "metadata": {
        "colab": {
          "base_uri": "https://localhost:8080/",
          "height": 301
        },
        "id": "EDnuBfPRlqT7",
        "outputId": "d9eb9a47-c684-4a0f-8f6d-c2d88b9e9c3f"
      },
      "execution_count": 15,
      "outputs": [
        {
          "output_type": "display_data",
          "data": {
            "text/plain": [
              "<Figure size 2000x500 with 30 Axes>"
            ],
            "image/png": "[encoded data removed]"
          },
          "metadata": {}
        }
      ]
    }
  ]
}